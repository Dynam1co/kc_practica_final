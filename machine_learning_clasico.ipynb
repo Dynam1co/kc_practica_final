{
 "cells": [
  {
   "cell_type": "markdown",
   "metadata": {
    "collapsed": true,
    "pycharm": {
     "is_executing": false
    }
   },
   "source": [
    "# Predicción usando Machine Learning clásico\n",
    "\n",
    "Una vez los datos están limpios, ya podemos seleccionar y entrengar algunos modelos de Machine learning. Estamos ante un problema de predicción supervisado, por lo que usaremos algoritmos acordes a este tipo de problemas.\n",
    "\n",
    "Al tratarse de un problema de regresión, tomaremos como medida de confianza el error cuadrático medio RMSE.\n",
    "\n",
    "Estos son los modelos que probaremos:\n",
    "- Regresión lineal\n",
    "- Lasso\n",
    "- Random forest\n",
    "- Red neuronal de regresión (solo con datos numéricos)"
   ]
  },
  {
   "cell_type": "markdown",
   "metadata": {},
   "source": [
    "## Lectura dataset\n",
    "Recuperamos los datasets de train y test que ya teníamos limpios."
   ]
  },
  {
   "cell_type": "code",
   "execution_count": 1,
   "metadata": {},
   "outputs": [],
   "source": [
    "import pandas as pd\n",
    "import os\n",
    "from sklearn import preprocessing\n",
    "\n",
    "# Carga el dataset y devuelve un dataframe de Pandas\n",
    "def load_airbnb_dataset(ruta,nombre):\n",
    "    csv_path = os.path.join(ruta, nombre)\n",
    "    return pd.read_csv(csv_path, sep=';')"
   ]
  },
  {
   "cell_type": "code",
   "execution_count": 2,
   "metadata": {},
   "outputs": [],
   "source": [
    "copTrain = load_airbnb_dataset('datasets', 'train_final.csv')\n",
    "copTest = load_airbnb_dataset('datasets', 'test_final.csv')\n"
   ]
  },
  {
   "cell_type": "code",
   "execution_count": 3,
   "metadata": {},
   "outputs": [
    {
     "data": {
      "text/html": [
       "<div>\n",
       "<style scoped>\n",
       "    .dataframe tbody tr th:only-of-type {\n",
       "        vertical-align: middle;\n",
       "    }\n",
       "\n",
       "    .dataframe tbody tr th {\n",
       "        vertical-align: top;\n",
       "    }\n",
       "\n",
       "    .dataframe thead th {\n",
       "        text-align: right;\n",
       "    }\n",
       "</style>\n",
       "<table border=\"1\" class=\"dataframe\">\n",
       "  <thead>\n",
       "    <tr style=\"text-align: right;\">\n",
       "      <th></th>\n",
       "      <th>original_language</th>\n",
       "      <th>vote_average</th>\n",
       "      <th>budget</th>\n",
       "      <th>actor1</th>\n",
       "      <th>actor2</th>\n",
       "      <th>actor3</th>\n",
       "      <th>actor4</th>\n",
       "      <th>actor5</th>\n",
       "      <th>actor6</th>\n",
       "      <th>actor7</th>\n",
       "      <th>...</th>\n",
       "      <th>genero_actor27</th>\n",
       "      <th>genero_actor28</th>\n",
       "      <th>genero1</th>\n",
       "      <th>genero2</th>\n",
       "      <th>productora1</th>\n",
       "      <th>productora2</th>\n",
       "      <th>years_old</th>\n",
       "      <th>release_year</th>\n",
       "      <th>release_month</th>\n",
       "      <th>release_day</th>\n",
       "    </tr>\n",
       "  </thead>\n",
       "  <tbody>\n",
       "    <tr>\n",
       "      <th>0</th>\n",
       "      <td>21.0</td>\n",
       "      <td>6.9</td>\n",
       "      <td>0.0</td>\n",
       "      <td>1547.0</td>\n",
       "      <td>3788.0</td>\n",
       "      <td>4564.0</td>\n",
       "      <td>4475.0</td>\n",
       "      <td>1501.0</td>\n",
       "      <td>1825.0</td>\n",
       "      <td>3217.0</td>\n",
       "      <td>...</td>\n",
       "      <td>0.0</td>\n",
       "      <td>0.0</td>\n",
       "      <td>1.0</td>\n",
       "      <td>4.0</td>\n",
       "      <td>3143.0</td>\n",
       "      <td>0.0</td>\n",
       "      <td>10</td>\n",
       "      <td>2010</td>\n",
       "      <td>5</td>\n",
       "      <td>17</td>\n",
       "    </tr>\n",
       "    <tr>\n",
       "      <th>1</th>\n",
       "      <td>9.0</td>\n",
       "      <td>5.1</td>\n",
       "      <td>10000000.0</td>\n",
       "      <td>801.0</td>\n",
       "      <td>1962.0</td>\n",
       "      <td>3370.0</td>\n",
       "      <td>2142.0</td>\n",
       "      <td>597.0</td>\n",
       "      <td>839.0</td>\n",
       "      <td>246.0</td>\n",
       "      <td>...</td>\n",
       "      <td>0.0</td>\n",
       "      <td>0.0</td>\n",
       "      <td>1.0</td>\n",
       "      <td>1.0</td>\n",
       "      <td>2657.0</td>\n",
       "      <td>15.0</td>\n",
       "      <td>23</td>\n",
       "      <td>1997</td>\n",
       "      <td>3</td>\n",
       "      <td>27</td>\n",
       "    </tr>\n",
       "    <tr>\n",
       "      <th>2</th>\n",
       "      <td>9.0</td>\n",
       "      <td>5.8</td>\n",
       "      <td>10000000.0</td>\n",
       "      <td>656.0</td>\n",
       "      <td>2491.0</td>\n",
       "      <td>2947.0</td>\n",
       "      <td>4570.0</td>\n",
       "      <td>4681.0</td>\n",
       "      <td>4698.0</td>\n",
       "      <td>2131.0</td>\n",
       "      <td>...</td>\n",
       "      <td>0.0</td>\n",
       "      <td>0.0</td>\n",
       "      <td>4.0</td>\n",
       "      <td>0.0</td>\n",
       "      <td>1158.0</td>\n",
       "      <td>644.0</td>\n",
       "      <td>13</td>\n",
       "      <td>2007</td>\n",
       "      <td>6</td>\n",
       "      <td>6</td>\n",
       "    </tr>\n",
       "    <tr>\n",
       "      <th>3</th>\n",
       "      <td>14.0</td>\n",
       "      <td>6.7</td>\n",
       "      <td>27440000.0</td>\n",
       "      <td>1285.0</td>\n",
       "      <td>2456.0</td>\n",
       "      <td>2751.0</td>\n",
       "      <td>4945.0</td>\n",
       "      <td>442.0</td>\n",
       "      <td>2020.0</td>\n",
       "      <td>303.0</td>\n",
       "      <td>...</td>\n",
       "      <td>0.0</td>\n",
       "      <td>0.0</td>\n",
       "      <td>4.0</td>\n",
       "      <td>4.0</td>\n",
       "      <td>3233.0</td>\n",
       "      <td>656.0</td>\n",
       "      <td>17</td>\n",
       "      <td>2003</td>\n",
       "      <td>10</td>\n",
       "      <td>22</td>\n",
       "    </tr>\n",
       "    <tr>\n",
       "      <th>4</th>\n",
       "      <td>9.0</td>\n",
       "      <td>6.2</td>\n",
       "      <td>18000000.0</td>\n",
       "      <td>2053.0</td>\n",
       "      <td>2022.0</td>\n",
       "      <td>2074.0</td>\n",
       "      <td>180.0</td>\n",
       "      <td>4577.0</td>\n",
       "      <td>1291.0</td>\n",
       "      <td>5979.0</td>\n",
       "      <td>...</td>\n",
       "      <td>0.0</td>\n",
       "      <td>0.0</td>\n",
       "      <td>12.0</td>\n",
       "      <td>13.0</td>\n",
       "      <td>2145.0</td>\n",
       "      <td>2596.0</td>\n",
       "      <td>17</td>\n",
       "      <td>2003</td>\n",
       "      <td>11</td>\n",
       "      <td>24</td>\n",
       "    </tr>\n",
       "    <tr>\n",
       "      <th>...</th>\n",
       "      <td>...</td>\n",
       "      <td>...</td>\n",
       "      <td>...</td>\n",
       "      <td>...</td>\n",
       "      <td>...</td>\n",
       "      <td>...</td>\n",
       "      <td>...</td>\n",
       "      <td>...</td>\n",
       "      <td>...</td>\n",
       "      <td>...</td>\n",
       "      <td>...</td>\n",
       "      <td>...</td>\n",
       "      <td>...</td>\n",
       "      <td>...</td>\n",
       "      <td>...</td>\n",
       "      <td>...</td>\n",
       "      <td>...</td>\n",
       "      <td>...</td>\n",
       "      <td>...</td>\n",
       "      <td>...</td>\n",
       "      <td>...</td>\n",
       "    </tr>\n",
       "    <tr>\n",
       "      <th>7916</th>\n",
       "      <td>9.0</td>\n",
       "      <td>6.5</td>\n",
       "      <td>900000.0</td>\n",
       "      <td>2462.0</td>\n",
       "      <td>2409.0</td>\n",
       "      <td>173.0</td>\n",
       "      <td>926.0</td>\n",
       "      <td>574.0</td>\n",
       "      <td>3948.0</td>\n",
       "      <td>161.0</td>\n",
       "      <td>...</td>\n",
       "      <td>0.0</td>\n",
       "      <td>0.0</td>\n",
       "      <td>11.0</td>\n",
       "      <td>12.0</td>\n",
       "      <td>2658.0</td>\n",
       "      <td>468.0</td>\n",
       "      <td>17</td>\n",
       "      <td>2003</td>\n",
       "      <td>1</td>\n",
       "      <td>30</td>\n",
       "    </tr>\n",
       "    <tr>\n",
       "      <th>7917</th>\n",
       "      <td>9.0</td>\n",
       "      <td>6.6</td>\n",
       "      <td>0.0</td>\n",
       "      <td>1921.0</td>\n",
       "      <td>2150.0</td>\n",
       "      <td>1297.0</td>\n",
       "      <td>2830.0</td>\n",
       "      <td>3364.0</td>\n",
       "      <td>2159.0</td>\n",
       "      <td>242.0</td>\n",
       "      <td>...</td>\n",
       "      <td>0.0</td>\n",
       "      <td>0.0</td>\n",
       "      <td>4.0</td>\n",
       "      <td>13.0</td>\n",
       "      <td>1994.0</td>\n",
       "      <td>1343.0</td>\n",
       "      <td>13</td>\n",
       "      <td>2007</td>\n",
       "      <td>9</td>\n",
       "      <td>9</td>\n",
       "    </tr>\n",
       "    <tr>\n",
       "      <th>7918</th>\n",
       "      <td>9.0</td>\n",
       "      <td>8.4</td>\n",
       "      <td>185000000.0</td>\n",
       "      <td>968.0</td>\n",
       "      <td>2878.0</td>\n",
       "      <td>4765.0</td>\n",
       "      <td>3184.0</td>\n",
       "      <td>2018.0</td>\n",
       "      <td>390.0</td>\n",
       "      <td>1028.0</td>\n",
       "      <td>...</td>\n",
       "      <td>2.0</td>\n",
       "      <td>1.0</td>\n",
       "      <td>1.0</td>\n",
       "      <td>4.0</td>\n",
       "      <td>745.0</td>\n",
       "      <td>1461.0</td>\n",
       "      <td>12</td>\n",
       "      <td>2008</td>\n",
       "      <td>7</td>\n",
       "      <td>16</td>\n",
       "    </tr>\n",
       "    <tr>\n",
       "      <th>7919</th>\n",
       "      <td>9.0</td>\n",
       "      <td>7.4</td>\n",
       "      <td>5000000.0</td>\n",
       "      <td>212.0</td>\n",
       "      <td>3256.0</td>\n",
       "      <td>1735.0</td>\n",
       "      <td>3694.0</td>\n",
       "      <td>5614.0</td>\n",
       "      <td>5112.0</td>\n",
       "      <td>1257.0</td>\n",
       "      <td>...</td>\n",
       "      <td>1.0</td>\n",
       "      <td>2.0</td>\n",
       "      <td>4.0</td>\n",
       "      <td>13.0</td>\n",
       "      <td>136.0</td>\n",
       "      <td>937.0</td>\n",
       "      <td>3</td>\n",
       "      <td>2017</td>\n",
       "      <td>3</td>\n",
       "      <td>30</td>\n",
       "    </tr>\n",
       "    <tr>\n",
       "      <th>7920</th>\n",
       "      <td>9.0</td>\n",
       "      <td>7.2</td>\n",
       "      <td>15000000.0</td>\n",
       "      <td>2263.0</td>\n",
       "      <td>903.0</td>\n",
       "      <td>2875.0</td>\n",
       "      <td>3327.0</td>\n",
       "      <td>3356.0</td>\n",
       "      <td>5370.0</td>\n",
       "      <td>2255.0</td>\n",
       "      <td>...</td>\n",
       "      <td>0.0</td>\n",
       "      <td>0.0</td>\n",
       "      <td>7.0</td>\n",
       "      <td>0.0</td>\n",
       "      <td>592.0</td>\n",
       "      <td>1675.0</td>\n",
       "      <td>4</td>\n",
       "      <td>2016</td>\n",
       "      <td>9</td>\n",
       "      <td>23</td>\n",
       "    </tr>\n",
       "  </tbody>\n",
       "</table>\n",
       "<p>7921 rows × 67 columns</p>\n",
       "</div>"
      ],
      "text/plain": [
       "      original_language  vote_average       budget  actor1  actor2  actor3  \\\n",
       "0                  21.0           6.9          0.0  1547.0  3788.0  4564.0   \n",
       "1                   9.0           5.1   10000000.0   801.0  1962.0  3370.0   \n",
       "2                   9.0           5.8   10000000.0   656.0  2491.0  2947.0   \n",
       "3                  14.0           6.7   27440000.0  1285.0  2456.0  2751.0   \n",
       "4                   9.0           6.2   18000000.0  2053.0  2022.0  2074.0   \n",
       "...                 ...           ...          ...     ...     ...     ...   \n",
       "7916                9.0           6.5     900000.0  2462.0  2409.0   173.0   \n",
       "7917                9.0           6.6          0.0  1921.0  2150.0  1297.0   \n",
       "7918                9.0           8.4  185000000.0   968.0  2878.0  4765.0   \n",
       "7919                9.0           7.4    5000000.0   212.0  3256.0  1735.0   \n",
       "7920                9.0           7.2   15000000.0  2263.0   903.0  2875.0   \n",
       "\n",
       "      actor4  actor5  actor6  actor7  ...  genero_actor27  genero_actor28  \\\n",
       "0     4475.0  1501.0  1825.0  3217.0  ...             0.0             0.0   \n",
       "1     2142.0   597.0   839.0   246.0  ...             0.0             0.0   \n",
       "2     4570.0  4681.0  4698.0  2131.0  ...             0.0             0.0   \n",
       "3     4945.0   442.0  2020.0   303.0  ...             0.0             0.0   \n",
       "4      180.0  4577.0  1291.0  5979.0  ...             0.0             0.0   \n",
       "...      ...     ...     ...     ...  ...             ...             ...   \n",
       "7916   926.0   574.0  3948.0   161.0  ...             0.0             0.0   \n",
       "7917  2830.0  3364.0  2159.0   242.0  ...             0.0             0.0   \n",
       "7918  3184.0  2018.0   390.0  1028.0  ...             2.0             1.0   \n",
       "7919  3694.0  5614.0  5112.0  1257.0  ...             1.0             2.0   \n",
       "7920  3327.0  3356.0  5370.0  2255.0  ...             0.0             0.0   \n",
       "\n",
       "      genero1  genero2  productora1  productora2  years_old  release_year  \\\n",
       "0         1.0      4.0       3143.0          0.0         10          2010   \n",
       "1         1.0      1.0       2657.0         15.0         23          1997   \n",
       "2         4.0      0.0       1158.0        644.0         13          2007   \n",
       "3         4.0      4.0       3233.0        656.0         17          2003   \n",
       "4        12.0     13.0       2145.0       2596.0         17          2003   \n",
       "...       ...      ...          ...          ...        ...           ...   \n",
       "7916     11.0     12.0       2658.0        468.0         17          2003   \n",
       "7917      4.0     13.0       1994.0       1343.0         13          2007   \n",
       "7918      1.0      4.0        745.0       1461.0         12          2008   \n",
       "7919      4.0     13.0        136.0        937.0          3          2017   \n",
       "7920      7.0      0.0        592.0       1675.0          4          2016   \n",
       "\n",
       "      release_month  release_day  \n",
       "0                 5           17  \n",
       "1                 3           27  \n",
       "2                 6            6  \n",
       "3                10           22  \n",
       "4                11           24  \n",
       "...             ...          ...  \n",
       "7916              1           30  \n",
       "7917              9            9  \n",
       "7918              7           16  \n",
       "7919              3           30  \n",
       "7920              9           23  \n",
       "\n",
       "[7921 rows x 67 columns]"
      ]
     },
     "execution_count": 3,
     "metadata": {},
     "output_type": "execute_result"
    }
   ],
   "source": [
    "copTrain"
   ]
  },
  {
   "cell_type": "markdown",
   "metadata": {},
   "source": [
    "## Escalado de características"
   ]
  },
  {
   "cell_type": "code",
   "execution_count": 4,
   "metadata": {},
   "outputs": [],
   "source": [
    "train_vote_average = copTrain['vote_average']\n",
    "test_vote_average = copTest['vote_average']\n",
    "\n",
    "train_sin_y = copTrain.drop(['vote_average'], axis=1, inplace=False)\n",
    "test_sin_y = copTest.drop(['vote_average'], axis=1, inplace=False)\n",
    "\n",
    "y_train = train_vote_average.values\n",
    "X_train = train_sin_y.values\n",
    "\n",
    "y_test = test_vote_average.values\n",
    "X_test = test_sin_y.values\n",
    "\n",
    "feature_names = copTrain.columns[:]"
   ]
  },
  {
   "cell_type": "code",
   "execution_count": 5,
   "metadata": {},
   "outputs": [],
   "source": [
    "from sklearn import preprocessing\n",
    "\n",
    "scaler = preprocessing.StandardScaler().fit(X_train)\n",
    "XtrainScaled = scaler.transform(X_train)\n",
    "\n",
    "scaler = preprocessing.StandardScaler().fit(X_test)\n",
    "XtestScaled = scaler.transform(X_test)"
   ]
  },
  {
   "cell_type": "markdown",
   "metadata": {},
   "source": [
    "## Seleccionar y entrenar modelo\n",
    "Una vez normalizados los datos ya estamos preparados para seleccionar un modelo y entrenarlo."
   ]
  },
  {
   "cell_type": "markdown",
   "metadata": {},
   "source": [
    "### Modelo de regresión lineal"
   ]
  },
  {
   "cell_type": "code",
   "execution_count": 6,
   "metadata": {},
   "outputs": [
    {
     "data": {
      "text/plain": [
       "LinearRegression(copy_X=True, fit_intercept=True, n_jobs=None, normalize=False)"
      ]
     },
     "execution_count": 6,
     "metadata": {},
     "output_type": "execute_result"
    }
   ],
   "source": [
    "from sklearn.linear_model import LinearRegression\n",
    "\n",
    "lin_reg = LinearRegression()\n",
    "lin_reg.fit(XtrainScaled, y_train)"
   ]
  },
  {
   "cell_type": "markdown",
   "metadata": {},
   "source": [
    "#### Calcular la raíz del error cuadrático medio"
   ]
  },
  {
   "cell_type": "code",
   "execution_count": 7,
   "metadata": {},
   "outputs": [
    {
     "name": "stdout",
     "output_type": "stream",
     "text": [
      "Error train: 1.2560836631340253\n",
      "Error test: 1.3466398267522337\n"
     ]
    }
   ],
   "source": [
    "from sklearn.metrics import mean_squared_error\n",
    "import numpy as np\n",
    "\n",
    "precicciones = lin_reg.predict(XtrainScaled)\n",
    "prediccionesTest = lin_reg.predict(XtestScaled)\n",
    "\n",
    "lin_mse = mean_squared_error(y_train, precicciones)\n",
    "lin_rmse = np.sqrt(lin_mse)\n",
    "\n",
    "lin_mseTest = mean_squared_error(y_test, prediccionesTest)\n",
    "lin_rmseTest = np.sqrt(lin_mseTest)\n",
    "\n",
    "print('Error train:', lin_rmse)\n",
    "print('Error test:', lin_rmseTest)"
   ]
  },
  {
   "cell_type": "markdown",
   "metadata": {},
   "source": [
    "Vemos que la raíz del error cuadrático medio nos da 1,25 en train y 1,34 en test, si recordamos, en la parte de exploración de los datos, vimos que la media de valoración nos daba 6,23. Así que nuestro modelo de regresión calcula un error medio de +/- 1,34 puntos.\n",
    "\n",
    "Este error en porcentaje lo traduciríamos a un error del 21%, algo alto, luego intentaremos reducirlo con otro modelo."
   ]
  },
  {
   "cell_type": "markdown",
   "metadata": {},
   "source": [
    "Vamos a calcular también el **mae** (mean absolute error) por tener una medida más. Al mae no hay que calcularle la raíz cuadrada porque el resultado tiene la misma escala que los datos, al contrario que el error cuadrático medio."
   ]
  },
  {
   "cell_type": "code",
   "execution_count": 8,
   "metadata": {},
   "outputs": [
    {
     "name": "stdout",
     "output_type": "stream",
     "text": [
      "Error train: 0.8385522843011168\n",
      "Error test: 0.8855410165445805\n"
     ]
    }
   ],
   "source": [
    "from sklearn.metrics import mean_absolute_error\n",
    "\n",
    "mae_train = mean_absolute_error(y_train, precicciones)\n",
    "mae_test = mean_absolute_error(y_test, prediccionesTest)\n",
    "\n",
    "print('Error train:', mae_train)\n",
    "print('Error test:', mae_test)"
   ]
  },
  {
   "cell_type": "markdown",
   "metadata": {},
   "source": [
    "### Lasso\n",
    "Probamos ahora con Lasso usando además GridSearch para obtener los mejores parámetros."
   ]
  },
  {
   "cell_type": "code",
   "execution_count": 9,
   "metadata": {},
   "outputs": [
    {
     "name": "stderr",
     "output_type": "stream",
     "text": [
      "D:\\Programas\\Anaconda3\\envs\\tf-gpu\\lib\\site-packages\\sklearn\\model_selection\\_search.py:823: FutureWarning: The parameter 'iid' is deprecated in 0.22 and will be removed in 0.24.\n",
      "  \"removed in 0.24.\", FutureWarning\n"
     ]
    },
    {
     "data": {
      "text/plain": [
       "{'alpha': 0.01,\n",
       " 'copy_X': True,\n",
       " 'fit_intercept': True,\n",
       " 'max_iter': 1000,\n",
       " 'normalize': False,\n",
       " 'positive': False,\n",
       " 'precompute': False,\n",
       " 'random_state': None,\n",
       " 'selection': 'cyclic',\n",
       " 'tol': 0.0001,\n",
       " 'warm_start': False}"
      ]
     },
     "execution_count": 9,
     "metadata": {},
     "output_type": "execute_result"
    }
   ],
   "source": [
    "from sklearn.model_selection import GridSearchCV\n",
    "from sklearn.linear_model import Lasso\n",
    "\n",
    "model = Lasso()\n",
    "params = {'alpha': [1, 0.1, 0.01, 0.001, 0.0001]}\n",
    "\n",
    "grid = GridSearchCV(model, params, cv=10, iid=False)\n",
    "grid.fit(XtrainScaled, y_train)\n",
    "\n",
    "grid.best_estimator_.get_params()"
   ]
  },
  {
   "cell_type": "markdown",
   "metadata": {},
   "source": [
    "#### Calculamos de nuevo el error cuadrático medio para compararlo con la regresión"
   ]
  },
  {
   "cell_type": "code",
   "execution_count": 10,
   "metadata": {},
   "outputs": [
    {
     "name": "stdout",
     "output_type": "stream",
     "text": [
      "Error train: 1.2578897057910614\n",
      "Error test: 1.348262102551534\n"
     ]
    }
   ],
   "source": [
    "alpha_optimo = grid.best_params_['alpha']\n",
    "lasso = Lasso(alpha = alpha_optimo).fit(XtrainScaled,y_train)\n",
    "\n",
    "ytrainLasso = lasso.predict(XtrainScaled)\n",
    "ytestLasso  = lasso.predict(XtestScaled)\n",
    "\n",
    "lin_mseLasso = mean_squared_error(y_train,ytrainLasso)\n",
    "lin_rmseLasso = np.sqrt(lin_mseLasso)\n",
    "\n",
    "lin_mseTestLasso = mean_squared_error(y_test,ytestLasso)\n",
    "lin_rmseTestLasso = np.sqrt(lin_mseTestLasso)\n",
    "\n",
    "print('Error train:', lin_rmseLasso)\n",
    "print('Error test:', lin_rmseTestLasso)"
   ]
  },
  {
   "cell_type": "markdown",
   "metadata": {},
   "source": [
    "Hemos obtenido más o menos el mismo error que con la regresión, muestro ahora la importancia de las características:"
   ]
  },
  {
   "cell_type": "code",
   "execution_count": 11,
   "metadata": {},
   "outputs": [
    {
     "name": "stdout",
     "output_type": "stream",
     "text": [
      "original_language 0.0489652141963462\n",
      "vote_average 0.0002298159286867367\n",
      "budget -0.0\n",
      "actor1 0.0031757194761233244\n",
      "actor2 -0.0\n",
      "actor3 0.0\n",
      "actor4 0.028944992114828975\n",
      "actor5 0.01999680598975813\n",
      "actor6 0.021312472182696947\n",
      "actor7 0.023353234686559237\n",
      "actor8 0.040712183080650485\n",
      "actor9 0.01657321634560078\n",
      "actor10 0.023078414404324413\n",
      "actor11 0.02807781818317215\n",
      "actor12 0.030597488562271978\n",
      "actor13 0.014329242117186725\n",
      "actor14 0.0\n",
      "actor15 0.013918252515727762\n",
      "actor16 0.03931271595371843\n",
      "actor17 0.013656148506863591\n",
      "actor18 0.0\n",
      "actor19 0.04044683397286164\n",
      "actor20 0.0\n",
      "actor21 0.007421457695908521\n",
      "actor22 0.0017611778696178027\n",
      "actor23 0.0\n",
      "actor24 0.0\n",
      "actor25 0.028911570919135\n",
      "actor26 0.004694403807983316\n",
      "actor27 0.028015320656636738\n",
      "actor28 0.07349711274473353\n",
      "genero_actor1 0.025200807414422127\n",
      "genero_actor2 0.0205241009627549\n",
      "genero_actor3 0.009339885317107239\n",
      "genero_actor4 -0.0081803851385002\n",
      "genero_actor5 -0.0\n",
      "genero_actor6 0.0\n",
      "genero_actor7 -0.0\n",
      "genero_actor8 0.0\n",
      "genero_actor9 0.0\n",
      "genero_actor10 0.002110290762494544\n",
      "genero_actor11 -0.0\n",
      "genero_actor12 0.0\n",
      "genero_actor13 0.0035052572514254125\n",
      "genero_actor14 -0.0\n",
      "genero_actor15 -0.012903114579179073\n",
      "genero_actor16 0.0\n",
      "genero_actor17 -0.0\n",
      "genero_actor18 -0.005269602334279551\n",
      "genero_actor19 -0.0\n",
      "genero_actor20 0.0071830497241906184\n",
      "genero_actor21 -0.0\n",
      "genero_actor22 0.021145114095664996\n",
      "genero_actor23 0.0\n",
      "genero_actor24 0.0\n",
      "genero_actor25 0.0020536438327640205\n",
      "genero_actor26 0.006048582185870258\n",
      "genero_actor27 0.0\n",
      "genero_actor28 0.06720445301352308\n",
      "genero1 0.009232892813379875\n",
      "genero2 0.03153168972099252\n",
      "productora1 0.036133852285082035\n",
      "productora2 0.32381849996921097\n",
      "years_old -5.848679001585473e-16\n",
      "release_year 0.12698057937935706\n",
      "release_month 0.021580598634583188\n"
     ]
    }
   ],
   "source": [
    "w = lasso.coef_\n",
    "for f,wi in zip(feature_names,w):\n",
    "    print(f,wi)"
   ]
  },
  {
   "cell_type": "markdown",
   "metadata": {},
   "source": [
    "#### Random forest"
   ]
  },
  {
   "cell_type": "code",
   "execution_count": 12,
   "metadata": {},
   "outputs": [
    {
     "name": "stdout",
     "output_type": "stream",
     "text": [
      "Predicciones: [6.38794221 6.38794221 6.41842858 ... 6.3804624  7.09184016 6.3804624 ]\n",
      "Mean Absolute Error: 0.7618047504500629\n",
      "Mean Squared Error: 1.1839406497839597\n",
      "Root Mean Squared Error: 1.0880903683904015\n"
     ]
    }
   ],
   "source": [
    "from sklearn.ensemble import RandomForestRegressor\n",
    "from sklearn.model_selection import cross_val_predict\n",
    "from sklearn.metrics import mean_absolute_error\n",
    "from sklearn.metrics import mean_squared_error\n",
    "\n",
    "rfr = RandomForestRegressor(n_estimators=500, max_depth=2, random_state=0)\n",
    "rfr.fit(X_train, y_train)\n",
    "\n",
    "y_pred_rfr = rfr.predict(X_test)\n",
    "\n",
    "predictions = cross_val_predict(rfr, X_test, y_test, cv=10)\n",
    "print('Predicciones:', predictions)\n",
    "\n",
    "print('Mean Absolute Error:', mean_absolute_error(y_test, y_pred_rfr))\n",
    "print('Mean Squared Error:', mean_squared_error(y_test, y_pred_rfr))\n",
    "print('Root Mean Squared Error:', np.sqrt(mean_squared_error(y_test, y_pred_rfr)))"
   ]
  },
  {
   "cell_type": "markdown",
   "metadata": {},
   "source": [
    "Si nos fijamos en la raíz del error cuadrático medio, el error ha pasado de 1,34 a 1.08, traducido a porcentaje, hemos pasado de un 21% a un 17% con el Random Forest."
   ]
  },
  {
   "cell_type": "markdown",
   "metadata": {},
   "source": [
    "#### Red neuronal con datos numéricos\n",
    "Vamos a intentar reducir aún más el error usando una red neuronal de regresión sin tener en cuenta las imágenes.\n",
    "\n",
    "En este caso usaremos una red neuronal (MLP) Multiplayer Perceptron"
   ]
  },
  {
   "cell_type": "code",
   "execution_count": 13,
   "metadata": {},
   "outputs": [],
   "source": [
    "import tensorflow as tf\n",
    "\n",
    "#tf.enable_eager_execution()"
   ]
  },
  {
   "cell_type": "code",
   "execution_count": 14,
   "metadata": {},
   "outputs": [
    {
     "name": "stdout",
     "output_type": "stream",
     "text": [
      "[name: \"/device:CPU:0\"\n",
      "device_type: \"CPU\"\n",
      "memory_limit: 268435456\n",
      "locality {\n",
      "}\n",
      "incarnation: 9414255908763127213\n",
      ", name: \"/device:GPU:0\"\n",
      "device_type: \"GPU\"\n",
      "memory_limit: 3063309926\n",
      "locality {\n",
      "  bus_id: 1\n",
      "  links {\n",
      "  }\n",
      "}\n",
      "incarnation: 13731165301746282518\n",
      "physical_device_desc: \"device: 0, name: GeForce GTX 1650 with Max-Q Design, pci bus id: 0000:03:00.0, compute capability: 7.5\"\n",
      "]\n",
      "Tensor(\"Const:0\", shape=(), dtype=string)\n"
     ]
    }
   ],
   "source": [
    "from tensorflow.python.client import device_lib \n",
    "print(device_lib.list_local_devices())\n",
    "print( tf.constant( 'Hellow from TensorFlow ' + tf.__version__ ) )"
   ]
  },
  {
   "cell_type": "code",
   "execution_count": 15,
   "metadata": {},
   "outputs": [],
   "source": [
    "# Obtener precio máximo en Train, y escalamos los precios de test y train en rango de [0, 1]\n",
    "maxPrice = copTrain[\"vote_average\"].max()\n",
    "trainY = copTrain[\"vote_average\"] / maxPrice\n",
    "testY = copTest[\"vote_average\"] / maxPrice"
   ]
  },
  {
   "cell_type": "code",
   "execution_count": 16,
   "metadata": {},
   "outputs": [
    {
     "data": {
      "text/plain": [
       "(7921, 66)"
      ]
     },
     "execution_count": 16,
     "metadata": {},
     "output_type": "execute_result"
    }
   ],
   "source": [
    "# Número de características\n",
    "XtrainScaled.shape"
   ]
  },
  {
   "cell_type": "markdown",
   "metadata": {},
   "source": [
    "Para calcular el nº de neuronas por capa oculta uso la **Regla de la pirámide geométrica**.\n",
    "\n",
    "Tenemos 66 características (66 neuronas de entrada), al ser un problema de regresión, solo tendremos una neurona de salida.\n",
    "\n",
    "Dividiré por 3 capas ocultas de la siguiente forma:\n",
    "\n",
    "r = raíz cuarta de 66/1 r = 3\n",
    "\n",
    "h1 = 1 * 3^3 = 27\n",
    "\n",
    "h2 = 1 * 3^2 = 9\n",
    "\n",
    "h3 = 1 * 3 = 3"
   ]
  },
  {
   "cell_type": "code",
   "execution_count": 17,
   "metadata": {},
   "outputs": [
    {
     "name": "stderr",
     "output_type": "stream",
     "text": [
      "Using TensorFlow backend.\n"
     ]
    }
   ],
   "source": [
    "from keras.models import Sequential\n",
    "from keras.layers.normalization import BatchNormalization\n",
    "from keras.layers.convolutional import Conv2D\n",
    "from keras.layers.convolutional import MaxPooling2D\n",
    "from keras.layers.core import Activation\n",
    "from keras.layers.core import Dropout\n",
    "from keras.layers.core import Dense\n",
    "from keras.layers import Flatten\n",
    "from keras.layers import Input\n",
    "from keras.models import Model\n",
    "from keras.optimizers import Adam\n",
    "\n",
    "def create_mlp(dim):\n",
    "\t# define our MLP network\n",
    "\tmodel = Sequential()\n",
    "\tmodel.add(Dense(27, input_dim=dim, activation=\"relu\"))\n",
    "\tmodel.add(Dense(9, activation=\"relu\"))\n",
    "\tmodel.add(Dense(3, activation=\"relu\"))\n",
    "\tmodel.add(Dense(1, activation=\"linear\"))\n",
    "\t\n",
    "\treturn model"
   ]
  },
  {
   "cell_type": "code",
   "execution_count": 18,
   "metadata": {},
   "outputs": [
    {
     "name": "stdout",
     "output_type": "stream",
     "text": [
      "WARNING:tensorflow:From D:\\Programas\\Anaconda3\\envs\\tf-gpu\\lib\\site-packages\\keras\\backend\\tensorflow_backend.py:74: The name tf.get_default_graph is deprecated. Please use tf.compat.v1.get_default_graph instead.\n",
      "\n",
      "WARNING:tensorflow:From D:\\Programas\\Anaconda3\\envs\\tf-gpu\\lib\\site-packages\\keras\\backend\\tensorflow_backend.py:517: The name tf.placeholder is deprecated. Please use tf.compat.v1.placeholder instead.\n",
      "\n",
      "WARNING:tensorflow:From D:\\Programas\\Anaconda3\\envs\\tf-gpu\\lib\\site-packages\\keras\\backend\\tensorflow_backend.py:4138: The name tf.random_uniform is deprecated. Please use tf.random.uniform instead.\n",
      "\n",
      "WARNING:tensorflow:From D:\\Programas\\Anaconda3\\envs\\tf-gpu\\lib\\site-packages\\keras\\optimizers.py:790: The name tf.train.Optimizer is deprecated. Please use tf.compat.v1.train.Optimizer instead.\n",
      "\n",
      "WARNING:tensorflow:From D:\\Programas\\Anaconda3\\envs\\tf-gpu\\lib\\site-packages\\keras\\backend\\tensorflow_backend.py:986: The name tf.assign_add is deprecated. Please use tf.compat.v1.assign_add instead.\n",
      "\n",
      "WARNING:tensorflow:From D:\\Programas\\Anaconda3\\envs\\tf-gpu\\lib\\site-packages\\keras\\backend\\tensorflow_backend.py:973: The name tf.assign is deprecated. Please use tf.compat.v1.assign instead.\n",
      "\n",
      "WARNING:tensorflow:From D:\\Programas\\Anaconda3\\envs\\tf-gpu\\lib\\site-packages\\keras\\backend\\tensorflow_backend.py:2741: The name tf.Session is deprecated. Please use tf.compat.v1.Session instead.\n",
      "\n",
      "Train on 7921 samples, validate on 1977 samples\n",
      "Epoch 1/50\n",
      "WARNING:tensorflow:From D:\\Programas\\Anaconda3\\envs\\tf-gpu\\lib\\site-packages\\keras\\backend\\tensorflow_backend.py:174: The name tf.get_default_session is deprecated. Please use tf.compat.v1.get_default_session instead.\n",
      "\n",
      "WARNING:tensorflow:From D:\\Programas\\Anaconda3\\envs\\tf-gpu\\lib\\site-packages\\keras\\backend\\tensorflow_backend.py:181: The name tf.ConfigProto is deprecated. Please use tf.compat.v1.ConfigProto instead.\n",
      "\n",
      "WARNING:tensorflow:From D:\\Programas\\Anaconda3\\envs\\tf-gpu\\lib\\site-packages\\keras\\backend\\tensorflow_backend.py:190: The name tf.global_variables is deprecated. Please use tf.compat.v1.global_variables instead.\n",
      "\n",
      "WARNING:tensorflow:From D:\\Programas\\Anaconda3\\envs\\tf-gpu\\lib\\site-packages\\keras\\backend\\tensorflow_backend.py:199: The name tf.is_variable_initialized is deprecated. Please use tf.compat.v1.is_variable_initialized instead.\n",
      "\n",
      "WARNING:tensorflow:From D:\\Programas\\Anaconda3\\envs\\tf-gpu\\lib\\site-packages\\keras\\backend\\tensorflow_backend.py:206: The name tf.variables_initializer is deprecated. Please use tf.compat.v1.variables_initializer instead.\n",
      "\n",
      "7921/7921 [==============================] - 2s 203us/step - loss: 0.0537 - val_loss: 0.0313\n",
      "Epoch 2/50\n",
      "7921/7921 [==============================] - 1s 101us/step - loss: 0.0231 - val_loss: 0.0232\n",
      "Epoch 3/50\n",
      "7921/7921 [==============================] - 1s 104us/step - loss: 0.0184 - val_loss: 0.0211\n",
      "Epoch 4/50\n",
      "7921/7921 [==============================] - 1s 102us/step - loss: 0.0168 - val_loss: 0.0197\n",
      "Epoch 5/50\n",
      "7921/7921 [==============================] - 1s 105us/step - loss: 0.0162 - val_loss: 0.0194\n",
      "Epoch 6/50\n",
      "7921/7921 [==============================] - 1s 103us/step - loss: 0.0157 - val_loss: 0.0191\n",
      "Epoch 7/50\n",
      "7921/7921 [==============================] - 1s 105us/step - loss: 0.0153 - val_loss: 0.0189\n",
      "Epoch 8/50\n",
      "7921/7921 [==============================] - 1s 106us/step - loss: 0.0151 - val_loss: 0.0183\n",
      "Epoch 9/50\n",
      "7921/7921 [==============================] - 1s 104us/step - loss: 0.0148 - val_loss: 0.0184\n",
      "Epoch 10/50\n",
      "7921/7921 [==============================] - 1s 104us/step - loss: 0.0147 - val_loss: 0.0181\n",
      "Epoch 11/50\n",
      "7921/7921 [==============================] - 1s 102us/step - loss: 0.0145 - val_loss: 0.0178\n",
      "Epoch 12/50\n",
      "7921/7921 [==============================] - 1s 104us/step - loss: 0.0141 - val_loss: 0.0184\n",
      "Epoch 13/50\n",
      "7921/7921 [==============================] - 1s 104us/step - loss: 0.0139 - val_loss: 0.0177\n",
      "Epoch 14/50\n",
      "7921/7921 [==============================] - 1s 103us/step - loss: 0.0137 - val_loss: 0.0179\n",
      "Epoch 15/50\n",
      "7921/7921 [==============================] - 1s 105us/step - loss: 0.0136 - val_loss: 0.0177\n",
      "Epoch 16/50\n",
      "7921/7921 [==============================] - 1s 106us/step - loss: 0.0132 - val_loss: 0.0178\n",
      "Epoch 17/50\n",
      "7921/7921 [==============================] - 1s 104us/step - loss: 0.0130 - val_loss: 0.0178\n",
      "Epoch 18/50\n",
      "7921/7921 [==============================] - 1s 103us/step - loss: 0.0130 - val_loss: 0.0177\n",
      "Epoch 19/50\n",
      "7921/7921 [==============================] - 1s 105us/step - loss: 0.0127 - val_loss: 0.0177\n",
      "Epoch 20/50\n",
      "7921/7921 [==============================] - 1s 104us/step - loss: 0.0127 - val_loss: 0.0179\n",
      "Epoch 21/50\n",
      "7921/7921 [==============================] - 1s 103us/step - loss: 0.0126 - val_loss: 0.0184\n",
      "Epoch 22/50\n",
      "7921/7921 [==============================] - 1s 107us/step - loss: 0.0122 - val_loss: 0.0180\n",
      "Epoch 23/50\n",
      "7921/7921 [==============================] - 1s 121us/step - loss: 0.0120 - val_loss: 0.0181\n",
      "Epoch 24/50\n",
      "7921/7921 [==============================] - 1s 109us/step - loss: 0.0119 - val_loss: 0.0179\n",
      "Epoch 25/50\n",
      "7921/7921 [==============================] - 1s 106us/step - loss: 0.0115 - val_loss: 0.0179\n",
      "Epoch 26/50\n",
      "7921/7921 [==============================] - 1s 103us/step - loss: 0.0115 - val_loss: 0.0180\n",
      "Epoch 27/50\n",
      "7921/7921 [==============================] - 1s 106us/step - loss: 0.0115 - val_loss: 0.0177\n",
      "Epoch 28/50\n",
      "7921/7921 [==============================] - 1s 108us/step - loss: 0.0112 - val_loss: 0.0185\n",
      "Epoch 29/50\n",
      "7921/7921 [==============================] - 1s 113us/step - loss: 0.0112 - val_loss: 0.0179\n",
      "Epoch 30/50\n",
      "7921/7921 [==============================] - 1s 113us/step - loss: 0.0110 - val_loss: 0.0193\n",
      "Epoch 31/50\n",
      "7921/7921 [==============================] - 1s 108us/step - loss: 0.0109 - val_loss: 0.0182\n",
      "Epoch 32/50\n",
      "7921/7921 [==============================] - 1s 106us/step - loss: 0.0108 - val_loss: 0.0180\n",
      "Epoch 33/50\n",
      "7921/7921 [==============================] - 1s 107us/step - loss: 0.0106 - val_loss: 0.0191\n",
      "Epoch 34/50\n",
      "7921/7921 [==============================] - 1s 109us/step - loss: 0.0106 - val_loss: 0.0178\n",
      "Epoch 35/50\n",
      "7921/7921 [==============================] - 1s 127us/step - loss: 0.0106 - val_loss: 0.0187\n",
      "Epoch 36/50\n",
      "7921/7921 [==============================] - 1s 112us/step - loss: 0.0103 - val_loss: 0.0188\n",
      "Epoch 37/50\n",
      "7921/7921 [==============================] - 1s 111us/step - loss: 0.0101 - val_loss: 0.0180\n",
      "Epoch 38/50\n",
      "7921/7921 [==============================] - 1s 111us/step - loss: 0.0100 - val_loss: 0.0201\n",
      "Epoch 39/50\n",
      "7921/7921 [==============================] - 1s 107us/step - loss: 0.0102 - val_loss: 0.0192\n",
      "Epoch 40/50\n",
      "7921/7921 [==============================] - 1s 106us/step - loss: 0.0099 - val_loss: 0.0187\n",
      "Epoch 41/50\n",
      "7921/7921 [==============================] - 1s 105us/step - loss: 0.0100 - val_loss: 0.0181\n",
      "Epoch 42/50\n",
      "7921/7921 [==============================] - 1s 103us/step - loss: 0.0102 - val_loss: 0.0192\n",
      "Epoch 43/50\n",
      "7921/7921 [==============================] - 1s 105us/step - loss: 0.0098 - val_loss: 0.0190\n",
      "Epoch 44/50\n",
      "7921/7921 [==============================] - 1s 103us/step - loss: 0.0095 - val_loss: 0.0183\n",
      "Epoch 45/50\n",
      "7921/7921 [==============================] - 1s 104us/step - loss: 0.0095 - val_loss: 0.0191\n",
      "Epoch 46/50\n",
      "7921/7921 [==============================] - 1s 104us/step - loss: 0.0093 - val_loss: 0.0197\n",
      "Epoch 47/50\n",
      "7921/7921 [==============================] - 1s 106us/step - loss: 0.0097 - val_loss: 0.0192\n",
      "Epoch 48/50\n",
      "7921/7921 [==============================] - 1s 105us/step - loss: 0.0092 - val_loss: 0.0188\n",
      "Epoch 49/50\n",
      "7921/7921 [==============================] - 1s 104us/step - loss: 0.0091 - val_loss: 0.0184\n",
      "Epoch 50/50\n",
      "7921/7921 [==============================] - 1s 105us/step - loss: 0.0091 - val_loss: 0.0193\n"
     ]
    }
   ],
   "source": [
    "model = create_mlp(XtrainScaled.shape[1])\n",
    "opt = Adam(lr=1e-3, decay=1e-3 / 200)\n",
    "model.compile(loss=\"mean_squared_error\", optimizer=opt)\n",
    "\n",
    "historico = model.fit(XtrainScaled, trainY, validation_data=(XtestScaled, testY),\n",
    "\tepochs=50, batch_size=27)"
   ]
  },
  {
   "cell_type": "code",
   "execution_count": null,
   "metadata": {},
   "outputs": [],
   "source": []
  }
 ],
 "metadata": {
  "kernelspec": {
   "display_name": "TensorFlow-GPU",
   "language": "python",
   "name": "tf-gpu"
  },
  "language_info": {
   "codemirror_mode": {
    "name": "ipython",
    "version": 3
   },
   "file_extension": ".py",
   "mimetype": "text/x-python",
   "name": "python",
   "nbconvert_exporter": "python",
   "pygments_lexer": "ipython3",
   "version": "3.7.6"
  }
 },
 "nbformat": 4,
 "nbformat_minor": 1
}
