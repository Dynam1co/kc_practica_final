{
 "cells": [
  {
   "cell_type": "markdown",
   "metadata": {
    "collapsed": true,
    "pycharm": {
     "is_executing": false
    }
   },
   "source": [
    "# Predicción usando Machine Learning clásico\n",
    "\n",
    "Una vez los datos están limpios, ya podemos seleccionar y entrengar algunos modelos de Machine learning. Estamos ante un problema de predicción supervisado, por lo que usaremos algoritmos acordes a este tipo de problemas.\n",
    "\n",
    "Al tratarse de un problema de regresión, tomaremos como medida de confianza el error cuadrático medio RMSE.\n",
    "\n",
    "Estos son los modelos que probaremos:\n",
    "- Regresión lineal\n",
    "- Lasso\n",
    "- Random forest\n",
    "- Red neuronal de regresión (solo con datos numéricos)"
   ]
  },
  {
   "cell_type": "markdown",
   "metadata": {},
   "source": [
    "## Lectura dataset\n",
    "Recuperamos los datasets de train y test que ya teníamos limpios."
   ]
  },
  {
   "cell_type": "code",
   "execution_count": 4,
   "metadata": {},
   "outputs": [],
   "source": [
    "import pandas as pd\n",
    "import os\n",
    "from sklearn import preprocessing\n",
    "\n",
    "# Carga el dataset y devuelve un dataframe de Pandas\n",
    "def load_airbnb_dataset(ruta,nombre):\n",
    "    csv_path = os.path.join(ruta, nombre)\n",
    "    return pd.read_csv(csv_path, sep=';')"
   ]
  },
  {
   "cell_type": "code",
   "execution_count": 5,
   "metadata": {},
   "outputs": [],
   "source": [
    "copTrain = load_airbnb_dataset('datasets', 'train_final.csv')\n",
    "copTest = load_airbnb_dataset('datasets', 'test_final.csv')\n"
   ]
  },
  {
   "cell_type": "code",
   "execution_count": null,
   "metadata": {},
   "outputs": [],
   "source": []
  },
  {
   "cell_type": "code",
   "execution_count": null,
   "metadata": {},
   "outputs": [],
   "source": []
  }
 ],
 "metadata": {
  "kernelspec": {
   "display_name": "TensorFlow-GPU",
   "language": "python",
   "name": "tf-gpu"
  },
  "language_info": {
   "codemirror_mode": {
    "name": "ipython",
    "version": 3
   },
   "file_extension": ".py",
   "mimetype": "text/x-python",
   "name": "python",
   "nbconvert_exporter": "python",
   "pygments_lexer": "ipython3",
   "version": "3.7.6"
  }
 },
 "nbformat": 4,
 "nbformat_minor": 1
}
